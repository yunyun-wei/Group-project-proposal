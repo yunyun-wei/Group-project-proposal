{
 "cells": [
  {
   "cell_type": "code",
   "execution_count": 11,
   "id": "ce600085-565d-49a6-a525-e3ea15a4061b",
   "metadata": {},
   "outputs": [
    {
     "name": "stderr",
     "output_type": "stream",
     "text": [
      "── \u001b[1mAttaching core tidyverse packages\u001b[22m ──────────────────────── tidyverse 2.0.0 ──\n",
      "\u001b[32m✔\u001b[39m \u001b[34mdplyr    \u001b[39m 1.1.3     \u001b[32m✔\u001b[39m \u001b[34mreadr    \u001b[39m 2.1.4\n",
      "\u001b[32m✔\u001b[39m \u001b[34mforcats  \u001b[39m 1.0.0     \u001b[32m✔\u001b[39m \u001b[34mstringr  \u001b[39m 1.5.0\n",
      "\u001b[32m✔\u001b[39m \u001b[34mggplot2  \u001b[39m 3.4.4     \u001b[32m✔\u001b[39m \u001b[34mtibble   \u001b[39m 3.2.1\n",
      "\u001b[32m✔\u001b[39m \u001b[34mlubridate\u001b[39m 1.9.3     \u001b[32m✔\u001b[39m \u001b[34mtidyr    \u001b[39m 1.3.0\n",
      "\u001b[32m✔\u001b[39m \u001b[34mpurrr    \u001b[39m 1.0.2     \n",
      "── \u001b[1mConflicts\u001b[22m ────────────────────────────────────────── tidyverse_conflicts() ──\n",
      "\u001b[31m✖\u001b[39m \u001b[34mdplyr\u001b[39m::\u001b[32mfilter()\u001b[39m masks \u001b[34mstats\u001b[39m::filter()\n",
      "\u001b[31m✖\u001b[39m \u001b[34mdplyr\u001b[39m::\u001b[32mlag()\u001b[39m    masks \u001b[34mstats\u001b[39m::lag()\n",
      "\u001b[36mℹ\u001b[39m Use the conflicted package (\u001b[3m\u001b[34m<http://conflicted.r-lib.org/>\u001b[39m\u001b[23m) to force all conflicts to become errors\n"
     ]
    }
   ],
   "source": [
    "library(tidyverse)\n",
    "library(readxl)\n",
    "# download.file(\"https://data.cityofnewyork.us/api/views/fju2-rdad/rows.csv?accessType=DOWNLOAD\", \"data/HIV.csv\")\n",
    "# # HIV <- read_csv(\"data/HIV.csv\")\n",
    "# # library(janitor)\n",
    "# HIV <- clean_names(HIV)\n",
    "# HIV\n",
    "\n",
    "\n"
   ]
  },
  {
   "cell_type": "code",
   "execution_count": 2,
   "id": "400b6776-0154-4ea0-81b0-8e6d5292c012",
   "metadata": {},
   "outputs": [],
   "source": [
    "\n",
    "# HIV_filtered <- filter(HIV, gender != \"All\") \n",
    "# HIV_select<-select(hiv, gender, age, hiv_related_death_rate, hiv_diagnoses)\n",
    "# HIV_select\n",
    "\n",
    "\n"
   ]
  },
  {
   "cell_type": "code",
   "execution_count": 14,
   "id": "aaf62200-be21-4069-95c2-f49d7e8dd425",
   "metadata": {},
   "outputs": [
    {
     "ename": "ERROR",
     "evalue": "Error in read.table(f): no lines available in input\n",
     "output_type": "error",
     "traceback": [
      "Error in read.table(f): no lines available in input\nTraceback:\n",
      "1. read.table(f)",
      "2. stop(\"no lines available in input\")"
     ]
    }
   ],
   "source": [
    "# temp <- tempfile()\n",
    "# download.file(\"https://archive.ics.uci.edu/dataset/45/heart+disease.zip\", temp)\n",
    "# heart_disease_file <- unz(temp, \"/cleveland.data\")\n",
    "# hd <- read.table(heart_disease_file)\n",
    "\n",
    "f <- file(\"https://raw.githubusercontent.com/yunyun-wei/Group-project-proposal/main/cleveland.data\", open=\"r\")\n",
    "data <- read.table(f)"
   ]
  },
  {
   "cell_type": "code",
   "execution_count": null,
   "id": "676b0f63-c447-4fe6-9e2a-555591fe1b73",
   "metadata": {},
   "outputs": [],
   "source": []
  }
 ],
 "metadata": {
  "kernelspec": {
   "display_name": "R",
   "language": "R",
   "name": "ir"
  },
  "language_info": {
   "codemirror_mode": "r",
   "file_extension": ".r",
   "mimetype": "text/x-r-source",
   "name": "R",
   "pygments_lexer": "r",
   "version": "4.3.1"
  }
 },
 "nbformat": 4,
 "nbformat_minor": 5
}
