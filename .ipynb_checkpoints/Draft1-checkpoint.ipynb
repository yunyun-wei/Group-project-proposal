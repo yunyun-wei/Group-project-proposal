{
 "cells": [
  {
   "cell_type": "code",
   "execution_count": null,
   "id": "d04ffc01-6b4f-4336-9597-5beb5480f6fd",
   "metadata": {},
   "outputs": [],
   "source": [
    "hihihhhhhhhhhi"
   ]
  }
 ],
 "metadata": {
  "kernelspec": {
   "display_name": "R",
   "language": "R",
   "name": "ir"
  },
  "language_info": {
   "codemirror_mode": "r",
   "file_extension": ".r",
   "mimetype": "text/x-r-source",
   "name": "R",
   "pygments_lexer": "r",
   "version": "4.3.1"
  }
 },
 "nbformat": 4,
 "nbformat_minor": 5
}
