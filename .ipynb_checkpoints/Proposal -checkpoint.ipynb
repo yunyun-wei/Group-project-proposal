{
 "cells": [
  {
   "cell_type": "markdown",
   "id": "0732d0d3-c271-4535-ab8c-78f6851b2ac6",
   "metadata": {},
   "source": [
    "# Exploring and Predicting Pulsar Data"
   ]
  },
  {
   "cell_type": "markdown",
   "id": "9c3feb71-be48-4f43-ad56-629f370beb8f",
   "metadata": {},
   "source": [
    "##### NANDINI Nandini, Runqi Zong, Shiori Hasegawa, Yunyun Wei"
   ]
  },
  {
   "cell_type": "markdown",
   "id": "9e1d6a9c-e860-45a3-af40-22991e48fe47",
   "metadata": {},
   "source": [
    "### Introduction"
   ]
  },
  {
   "cell_type": "markdown",
   "id": "532de736-139a-4ff1-9f46-63f7f7ec85db",
   "metadata": {
    "jp-MarkdownHeadingCollapsed": true
   },
   "source": [
    "##### Pulsars are a type of neutron star that emit strong electromagnetic radiation that can be picked up through machines on Earth. According to an article by Haitao Lin and Xiangru Li,  the universe is scattered with many undiscovered pulsars and relies on machine learning to detect characteristic radio waves that can be further interpreted to uncover new pulsars (Lin, et al, 2020). However, due to unique waves that each pulsar can produce and potential wave interference in space, it is challenging to identify real pulsars with high precision. To explore this problem, classification models will be imposed upon the HTRU-2 dataset to explore solutions of identifying ‘real pulsars’.  With information on standard deviation, mean, and skewness of categorically variables such as DM-SNR curve which stands for Dispersion Measure - Signal-to-Noise Ratio, that facilitate process of identifying potential pulsars, integrated profiles which are summed up pulses detected from the pulsars, and kurtosis which is a statistical measure that can help separate pulsars to non-pulsars. These numerical variables can help predict the class as being either a pulsar or non-pulsar. \n"
   ]
  },
  {
   "cell_type": "markdown",
   "id": "914c7ed5-6104-4632-8f9a-f5c6580d3cc9",
   "metadata": {},
   "source": [
    "### Preliminary exploratory data analysis"
   ]
  },
  {
   "cell_type": "code",
   "execution_count": null,
   "id": "f6c8720d-f444-4971-b199-1077746eb019",
   "metadata": {},
   "outputs": [],
   "source": []
  },
  {
   "cell_type": "code",
   "execution_count": null,
   "id": "51999594-8629-4de8-bcc4-6adf0ed7c386",
   "metadata": {},
   "outputs": [],
   "source": []
  },
  {
   "cell_type": "markdown",
   "id": "cc0ef96b-9c30-47dc-ad4a-ee872f70bd99",
   "metadata": {},
   "source": [
    "### Methods"
   ]
  },
  {
   "cell_type": "markdown",
   "id": "efb8f489-92ee-4b68-9c33-54e6eef6e94e",
   "metadata": {},
   "source": [
    "##### In order to make further predictions,columns, “mean_profile” and “mean_curve” will be used as explanatory variables to plot a scatter plot coloured based on categorization of a pulsar or non_pulsar. By analyzing the scatterplot, trends of the data points can be identified to determine the relationship between DM-SNR curves and integrated profiles of the potential candidates of pulsars. This information allows us to get distinct characteristics of pulsars. \n"
   ]
  },
  {
   "cell_type": "markdown",
   "id": "f0fa9010-c624-4ab6-8e77-d28efc03fccb",
   "metadata": {},
   "source": [
    "##### - Predictors used\n",
    "mean_Integrated_profile\n",
    "\n",
    "mean_DM-SNR curve.\n",
    "\n",
    "Class: non_pulsar or pulsar\n",
    "\n",
    "Testset\n",
    "Trainingset"
   ]
  },
  {
   "cell_type": "markdown",
   "id": "6438e044-dea4-4a5c-bf42-eeba8344ec63",
   "metadata": {},
   "source": [
    "### Expected outcomes and significance"
   ]
  },
  {
   "cell_type": "markdown",
   "id": "217736ee-d47d-467e-b29d-54b2b2c7c9ef",
   "metadata": {},
   "source": [
    "##### We expect to find distinct trends and relationships displayed in the scatterplot that could help make distinct observations and separation between pulsar data points and non-pulsar data points. Such findings could help build a knn model to help classify and predict further potential pulsar candidates as either a pulsar or non-pulsar. However, accuracy and precision might not be ensured through binary classification. This opens up to further future methods that can give more accurate results. \n"
   ]
  },
  {
   "cell_type": "markdown",
   "id": "acd06b60-53db-4613-9f54-e4f2e6a07a00",
   "metadata": {},
   "source": [
    "### Bibliography"
   ]
  },
  {
   "cell_type": "code",
   "execution_count": null,
   "id": "c7f66bf5-d6f9-4b4e-a4bd-f950d30db85a",
   "metadata": {},
   "outputs": [],
   "source": []
  }
 ],
 "metadata": {
  "kernelspec": {
   "display_name": "R",
   "language": "R",
   "name": "ir"
  },
  "language_info": {
   "codemirror_mode": "r",
   "file_extension": ".r",
   "mimetype": "text/x-r-source",
   "name": "R",
   "pygments_lexer": "r",
   "version": "4.3.1"
  }
 },
 "nbformat": 4,
 "nbformat_minor": 5
}
